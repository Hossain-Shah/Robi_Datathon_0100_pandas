{
  "nbformat": 4,
  "nbformat_minor": 0,
  "metadata": {
    "colab": {
      "provenance": []
    },
    "kernelspec": {
      "name": "python3",
      "display_name": "Python 3"
    },
    "language_info": {
      "name": "python"
    }
  },
  "cells": [
    {
      "cell_type": "code",
      "source": [
        "import pandas as pd\n",
        "from sklearn.model_selection import train_test_split\n",
        "from sklearn.ensemble import RandomForestClassifier\n",
        "from sklearn.metrics import accuracy_score\n",
        "from sklearn.impute import SimpleImputer\n",
        "from sklearn.preprocessing import OneHotEncoder\n",
        "\n",
        "# Load the data\n",
        "data = pd.read_csv(\"/content/drive/MyDrive/Colab Notebooks/processed_problem_1_data.csv\")\n",
        "\n",
        "# Preprocessing\n",
        "# Drop rows with missing target variable values\n",
        "data.dropna(subset=[\"MILK\", \"MEAT\"], inplace=True)\n",
        "\n",
        "# Convert continuous target variables to binary labels\n",
        "data[\"MILK\"] = data[\"MILK\"].apply(lambda x: 'Y' if x > 0 else 'N')\n",
        "data[\"MEAT\"] = data[\"MEAT\"].apply(lambda x: 'Y' if x > 0 else 'N')\n",
        "\n",
        "# Split features and target variable\n",
        "X = data.drop(columns=[\"MAGIC_KEY\", \"MILK\", \"MEAT\"])\n",
        "y_milk = data[\"MILK\"]\n",
        "y_meat = data[\"MEAT\"]\n",
        "\n",
        "# Encode categorical features\n",
        "categorical_cols = [\"QUALITY\", \"DELIVERY_OPTION\"]\n",
        "X_encoded = pd.get_dummies(X, columns=categorical_cols)\n",
        "\n",
        "# Impute missing values in features\n",
        "imputer = SimpleImputer(strategy='most_frequent')\n",
        "X_imputed = imputer.fit_transform(X_encoded)\n",
        "\n",
        "# Split data into training and testing sets\n",
        "X_train_milk, X_test_milk, y_train_milk, y_test_milk = train_test_split(X_imputed, y_milk, test_size=0.2, random_state=42)\n",
        "X_train_meat, X_test_meat, y_train_meat, y_test_meat = train_test_split(X_imputed, y_meat, test_size=0.2, random_state=42)\n",
        "\n",
        "# Model training\n",
        "milk_classifier = RandomForestClassifier()\n",
        "milk_classifier.fit(X_train_milk, y_train_milk)\n",
        "\n",
        "meat_classifier = RandomForestClassifier()\n",
        "meat_classifier.fit(X_train_meat, y_train_meat)\n",
        "\n",
        "# Predictions\n",
        "milk_predictions = milk_classifier.predict(X_test_milk)\n",
        "meat_predictions = meat_classifier.predict(X_test_meat)\n",
        "\n",
        "# Evaluation\n",
        "milk_accuracy = accuracy_score(y_test_milk, milk_predictions)\n",
        "meat_accuracy = accuracy_score(y_test_meat, meat_predictions)\n",
        "\n",
        "print(\"Accuracy for predicting milk purchases:\", milk_accuracy)\n",
        "print(\"Accuracy for predicting meat purchases:\", meat_accuracy)\n",
        "\n",
        "# Make predictions on the provided data\n",
        "predictions_milk = milk_classifier.predict(X_imputed)\n",
        "predictions_meat = meat_classifier.predict(X_imputed)\n",
        "\n",
        "# Assigning \"Y\" or \"N\" based on predictions\n",
        "data[\"MILK_PURCHASE\"] = predictions_milk\n",
        "data[\"MEAT_PURCHASE\"] = predictions_meat\n",
        "\n",
        "# Save the results\n",
        "data.to_csv(\"/content/drive/MyDrive/Colab Notebooks/predictions.csv\", index=False)\n"
      ],
      "metadata": {
        "colab": {
          "base_uri": "https://localhost:8080/"
        },
        "id": "88ItE-ru64cd",
        "outputId": "04414e28-4b2b-4002-fe1e-65f434fa828d"
      },
      "execution_count": null,
      "outputs": [
        {
          "output_type": "stream",
          "name": "stdout",
          "text": [
            "Accuracy for predicting milk purchases: 0.9482758620689655\n",
            "Accuracy for predicting meat purchases: 0.9482758620689655\n"
          ]
        }
      ]
    },
    {
      "cell_type": "code",
      "source": [
        "import pandas as pd\n",
        "\n",
        "# Load the data with predictions\n",
        "data = pd.read_csv(\"/content/drive/MyDrive/Colab Notebooks/predictions.csv\")\n",
        "\n",
        "# Create the new column \"PURCHASE\"\n",
        "data['PURCHASE'] = data.apply(lambda row: 'Y' if row['MILK_PURCHASE'] == 'Y' or row['MEAT_PURCHASE'] == 'Y' else 'N', axis=1)\n",
        "\n",
        "# Select only \"MAGIC_KEY\" and \"PURCHASE\" columns\n",
        "submission_data = data[[\"MAGIC_KEY\", \"PURCHASE\"]]\n",
        "\n",
        "# Save to a new CSV file\n",
        "submission_data.to_csv(\"/content/drive/MyDrive/Colab Notebooks/submission_1.csv\", index=False)\n"
      ],
      "metadata": {
        "id": "uDz-B1vK-f9u"
      },
      "execution_count": null,
      "outputs": []
    }
  ]
}