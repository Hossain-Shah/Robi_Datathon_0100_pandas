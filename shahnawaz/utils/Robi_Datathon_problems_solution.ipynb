{
  "nbformat": 4,
  "nbformat_minor": 0,
  "metadata": {
    "colab": {
      "provenance": []
    },
    "kernelspec": {
      "name": "python3",
      "display_name": "Python 3"
    },
    "language_info": {
      "name": "python"
    }
  },
  "cells": [
    {
      "cell_type": "code",
      "source": [
        "#Problem 1\n",
        "import pandas as pd\n",
        "\n",
        "# Load datasets\n",
        "purchase_data = pd.read_csv(\"/content/drive/MyDrive/Colab Notebooks/purchase.csv\")\n",
        "boxes_data = pd.read_csv(\"/content/drive/MyDrive/Colab Notebooks/boxes.csv\")\n",
        "problem_data = pd.read_csv(\"/content/drive/MyDrive/Colab Notebooks/problem1.csv\")\n",
        "\n",
        "# Merge purchase and boxes datasets\n",
        "merged_data = pd.merge(purchase_data, boxes_data, on=\"BOX_ID\")\n",
        "\n",
        "# Reorder columns\n",
        "merged_data = merged_data[[\"PURCHASE_DATE\", \"MAGIC_KEY\", \"BOX_ID\", \"MILK\", \"MEAT\"]]  # Corrected column name\n",
        "\n",
        "# Rename columns\n",
        "merged_data.columns = [\"PURCHASE_DATE\", \"MAGIC_KEY\", \"BOX_ID\", \"MILK\", \"MEAT\"]\n",
        "\n",
        "# Predict purchases for Magic Keys in problem data\n",
        "problem_keys = problem_data[\"MAGIC_KEY\"]\n",
        "problem_data[\"PURCHASE\"] = problem_data[\"MAGIC_KEY\"].isin(merged_data[\"MAGIC_KEY\"]).astype(str)\n",
        "\n",
        "# Save submission file\n",
        "submission_df = problem_data[[\"MAGIC_KEY\", \"PURCHASE\"]]\n",
        "submission_df.to_csv(\"/content/drive/MyDrive/Colab Notebooks/submission_1.csv\", index=False)\n"
      ],
      "metadata": {
        "id": "no0KWsnMkgrX"
      },
      "execution_count": 7,
      "outputs": []
    },
    {
      "cell_type": "code",
      "source": [
        "#Problem 2\n",
        "import pandas as pd\n",
        "\n",
        "# Step 1: Merge datasets and reorder columns\n",
        "\n",
        "# Load datasets\n",
        "purchase_data = pd.read_csv(\"/content/drive/MyDrive/Colab Notebooks/purchase.csv\")\n",
        "boxes_data = pd.read_csv(\"/content/drive/MyDrive/Colab Notebooks/boxes.csv\")\n",
        "\n",
        "# Merge datasets\n",
        "merged_data = pd.merge(purchase_data, boxes_data, on=\"BOX_ID\")\n",
        "\n",
        "# Reorder columns\n",
        "merged_data = merged_data[[\"PURCHASE_DATE\", \"MAGIC_KEY\", \"BOX_ID\", \"MILK\", \"MEAT\"]]\n",
        "\n",
        "# Step 2: Load problem data\n",
        "problem_data = pd.read_csv(\"/content/drive/MyDrive/Colab Notebooks/problem2.csv\")\n",
        "\n",
        "# Step 3: Merge problem data with merged data\n",
        "problem_merged = pd.merge(problem_data, merged_data, on=\"MAGIC_KEY\")\n",
        "\n",
        "# Step 4: Prepare features for prediction\n",
        "X_problem = problem_merged[[\"MILK\", \"MEAT\"]].values\n",
        "\n",
        "# Step 5: Predict purchases\n",
        "# Assuming you have already trained and loaded your machine learning model (not shown here)\n",
        "# milk_predictions = milk_classifier.predict(X_problem)\n",
        "# meat_predictions = meat_classifier.predict(X_problem)\n",
        "\n",
        "# For demonstration, let's assume all boxes are predicted to be purchased\n",
        "problem_merged[\"PREDICTED_PURCHASE\"] = \"Y\"\n",
        "\n",
        "# Step 6: Create submission file\n",
        "submission_df = problem_merged[[\"MAGIC_KEY\", \"BOX_ID\"]]\n",
        "submission_df.to_csv(\"/content/drive/MyDrive/Colab Notebooks/Submission_2.csv\", index=False)\n"
      ],
      "metadata": {
        "id": "7PltIyi4wljF"
      },
      "execution_count": 12,
      "outputs": []
    },
    {
      "cell_type": "code",
      "source": [
        "#Problem 3\n",
        "import pandas as pd\n",
        "\n",
        "# Step 1: Merge datasets and reorder columns\n",
        "\n",
        "# Load datasets\n",
        "purchase_data = pd.read_csv(\"/content/drive/MyDrive/Colab Notebooks/purchase.csv\")\n",
        "boxes_data = pd.read_csv(\"/content/drive/MyDrive/Colab Notebooks/boxes.csv\")\n",
        "\n",
        "# Merge datasets\n",
        "merged_data = pd.merge(purchase_data, boxes_data, on=\"BOX_ID\")\n",
        "\n",
        "# Reorder columns to match \"purchase.csv\" sequence\n",
        "merged_data = merged_data[[\"PURCHASE_DATE\", \"MAGIC_KEY\", \"BOX_ID\", \"MILK\", \"MEAT\"]]\n",
        "\n",
        "# Step 2: Load problem data\n",
        "problem_data = pd.read_csv(\"/content/drive/MyDrive/Colab Notebooks/problem3.csv\")\n",
        "\n",
        "# Step 3: Filter merged data for MAGIC_KEYs present in problem data\n",
        "merged_problem_data = merged_data[merged_data[\"MAGIC_KEY\"].isin(problem_data[\"MAGIC_KEY\"])]\n",
        "\n",
        "# Step 4: Predict quantity of meat purchased\n",
        "# Assuming you have already trained and loaded your machine learning model (not shown here)\n",
        "# meat_predictions = meat_model.predict(merged_problem_data[[\"MILK\", \"MEAT\"]])\n",
        "\n",
        "# For demonstration, let's assume all customers purchased 2.0 units of meat\n",
        "merged_problem_data[\"MEAT_PREDICTED\"] = 2.0\n",
        "\n",
        "# Step 5: Create submission DataFrame\n",
        "submission_df = merged_problem_data[[\"MAGIC_KEY\", \"MEAT_PREDICTED\"]]\n",
        "\n",
        "# Step 6: Save submission file\n",
        "submission_df.to_csv(\"/content/drive/MyDrive/Colab Notebooks/Submission_3.csv\", index=False)\n"
      ],
      "metadata": {
        "colab": {
          "base_uri": "https://localhost:8080/"
        },
        "id": "wo063LxTys3l",
        "outputId": "4accb249-a68f-484e-aa22-89bd0c1ac0ee"
      },
      "execution_count": 14,
      "outputs": [
        {
          "output_type": "stream",
          "name": "stderr",
          "text": [
            "<ipython-input-14-4d9c3141cf8b>:26: SettingWithCopyWarning: \n",
            "A value is trying to be set on a copy of a slice from a DataFrame.\n",
            "Try using .loc[row_indexer,col_indexer] = value instead\n",
            "\n",
            "See the caveats in the documentation: https://pandas.pydata.org/pandas-docs/stable/user_guide/indexing.html#returning-a-view-versus-a-copy\n",
            "  merged_problem_data[\"MEAT_PREDICTED\"] = 2.0\n"
          ]
        }
      ]
    }
  ]
}